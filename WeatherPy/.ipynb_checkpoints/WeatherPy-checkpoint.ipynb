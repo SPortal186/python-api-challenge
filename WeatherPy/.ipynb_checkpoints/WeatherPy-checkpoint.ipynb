{
 "cells": [
  {
   "cell_type": "markdown",
   "metadata": {},
   "source": [
    "# WeatherPy\n",
    "----\n",
    "\n",
    "#### Note\n",
    "* Instructions have been included for each segment. You do not have to follow them exactly, but they are included to help you think through the steps."
   ]
  },
  {
   "cell_type": "code",
   "execution_count": 1,
   "metadata": {
    "scrolled": true
   },
   "outputs": [],
   "source": [
    "\n",
    "# Dependencies and Setup\n",
    "import matplotlib.pyplot as plt\n",
    "import pandas as pd\n",
    "import numpy as np\n",
    "import requests\n",
    "import time\n",
    "from scipy.stats import linregress\n",
    "\n",
    "# Import API key\n",
    "from api_keys import weather_api_key\n",
    "\n",
    "# Incorporated citipy to determine city based on latitude and longitude\n",
    "from citipy import citipy\n",
    "\n",
    "# Output File (CSV)\n",
    "output_data_file = \"output_data/cities.csv\"\n",
    "\n",
    "# Range of latitudes and longitudes\n",
    "lat_range = (-90, 90)\n",
    "lng_range = (-180, 180)"
   ]
  },
  {
   "cell_type": "markdown",
   "metadata": {},
   "source": [
    "## Generate Cities List"
   ]
  },
  {
   "cell_type": "code",
   "execution_count": 2,
   "metadata": {},
   "outputs": [
    {
     "data": {
      "text/plain": [
       "605"
      ]
     },
     "execution_count": 2,
     "metadata": {},
     "output_type": "execute_result"
    }
   ],
   "source": [
    "# List for holding lat_lngs and cities\n",
    "lat_lngs = []\n",
    "cities = []\n",
    "\n",
    "# Create a set of random lat and lng combinations\n",
    "\n",
    "lats = np.random.uniform(lat_range[0], lat_range[1], size=1500)\n",
    "lngs = np.random.uniform(lng_range[0], lng_range[1], size=1500)\n",
    "lat_lngs = zip(lats, lngs)\n",
    "\n",
    "# Identify nearest city for each lat, lng combination\n",
    "for lat_lng in lat_lngs:\n",
    "    city = citipy.nearest_city(lat_lng[0], lat_lng[1]).city_name\n",
    "    \n",
    "    # If the city is unique, then add it to a our cities list\n",
    "    if city not in cities:\n",
    "        cities.append(city)\n",
    "\n",
    "# Print the city count to confirm sufficient count\n",
    "len(cities)"
   ]
  },
  {
   "cell_type": "markdown",
   "metadata": {},
   "source": [
    "### Perform API Calls\n",
    "* Perform a weather check on each city using a series of successive API calls.\n",
    "* Include a print log of each city as it'sbeing processed (with the city number and city name).\n",
    "\n",
    "> **HINT:** The OpenWeatherMap API only allows 60 calls per minute under their free plan. Try using `time.sleep(60)` after each set of 50 cities to avoid API errors due to large calls."
   ]
  },
  {
   "cell_type": "code",
   "execution_count": 3,
   "metadata": {},
   "outputs": [],
   "source": [
    "\n",
    "# Build query URL\n",
    "url = \"http://api.openweathermap.org/data/2.5/weather?units=Imperial&APPID=\" + weather_api_key \n"
   ]
  },
  {
   "cell_type": "code",
   "execution_count": 4,
   "metadata": {},
   "outputs": [],
   "source": [
    "#Set up a list to hold data from responses\n",
    "city_weather_data = []\n",
    "# Create counter\n",
    "counter_record = 0\n",
    "counter_set = 0"
   ]
  },
  {
   "cell_type": "code",
   "execution_count": 5,
   "metadata": {},
   "outputs": [
    {
     "name": "stdout",
     "output_type": "stream",
     "text": [
      "Beginning Data Retrieval \n",
      "---------------------------------\n",
      "Processing Record 1 of Set 0 | porto novo\n",
      "Processing Record 2 of Set 0 | kapaa\n",
      "Processing Record 3 of Set 0 | belushya guba\n",
      "City not found. Skipping...\n",
      "Processing Record 4 of Set 0 | nam tha\n",
      "City not found. Skipping...\n",
      "Processing Record 5 of Set 0 | sentyabrskiy\n",
      "City not found. Skipping...\n",
      "Processing Record 6 of Set 0 | itarema\n",
      "Processing Record 7 of Set 0 | pyapon\n",
      "Processing Record 8 of Set 0 | rikitea\n",
      "Processing Record 9 of Set 0 | busselton\n",
      "Processing Record 10 of Set 0 | divnogorsk\n",
      "Processing Record 11 of Set 0 | umzimvubu\n",
      "City not found. Skipping...\n",
      "Processing Record 12 of Set 0 | mataura\n",
      "Processing Record 13 of Set 0 | odlabari\n",
      "Processing Record 14 of Set 0 | jibuti\n",
      "Processing Record 15 of Set 0 | tooele\n",
      "Processing Record 16 of Set 0 | arraial do cabo\n",
      "Processing Record 17 of Set 0 | manggar\n",
      "Processing Record 18 of Set 0 | lerwick\n",
      "Processing Record 19 of Set 0 | svetlyy\n",
      "Processing Record 20 of Set 0 | songea\n",
      "Processing Record 21 of Set 0 | dajal\n",
      "Processing Record 22 of Set 0 | avarua\n",
      "Processing Record 23 of Set 0 | jumla\n",
      "Processing Record 24 of Set 0 | bluff\n",
      "Processing Record 25 of Set 0 | amderma\n",
      "City not found. Skipping...\n",
      "Processing Record 26 of Set 0 | butaritari\n",
      "Processing Record 27 of Set 0 | hermanus\n",
      "Processing Record 28 of Set 0 | dingle\n",
      "Processing Record 29 of Set 0 | mahibadhoo\n",
      "Processing Record 30 of Set 0 | hilo\n",
      "Processing Record 31 of Set 0 | atambua\n",
      "Processing Record 32 of Set 0 | ribeira grande\n",
      "Processing Record 33 of Set 0 | hithadhoo\n",
      "Processing Record 34 of Set 0 | punta arenas\n",
      "Processing Record 35 of Set 0 | saint anthony\n",
      "Processing Record 36 of Set 0 | luderitz\n",
      "Processing Record 37 of Set 0 | ushuaia\n",
      "Processing Record 38 of Set 0 | menzelinsk\n",
      "Processing Record 39 of Set 0 | wuan\n",
      "Processing Record 40 of Set 0 | derzhavinsk\n",
      "Processing Record 41 of Set 0 | salzkotten\n",
      "Processing Record 42 of Set 0 | yenagoa\n",
      "Processing Record 43 of Set 0 | carnarvon\n",
      "Processing Record 44 of Set 0 | bathsheba\n",
      "Processing Record 45 of Set 0 | cape town\n",
      "Processing Record 46 of Set 0 | morwell\n",
      "Processing Record 47 of Set 0 | hobart\n",
      "Processing Record 48 of Set 0 | itaqui\n",
      "Processing Record 49 of Set 0 | saint george\n",
      "Processing Record 50 of Set 0 | vilhena\n",
      "Processing Record 0 of Set 1 | tapaua\n",
      "City not found. Skipping...\n",
      "Processing Record 1 of Set 1 | puerto penasco\n",
      "Processing Record 2 of Set 1 | castro\n",
      "Processing Record 3 of Set 1 | norman wells\n",
      "Processing Record 4 of Set 1 | tupelo\n",
      "Processing Record 5 of Set 1 | buala\n",
      "Processing Record 6 of Set 1 | ulaangom\n",
      "Processing Record 7 of Set 1 | yekaterinovka\n",
      "Processing Record 8 of Set 1 | albany\n",
      "Processing Record 9 of Set 1 | padang\n",
      "Processing Record 10 of Set 1 | challapata\n",
      "Processing Record 11 of Set 1 | taolanaro\n",
      "City not found. Skipping...\n",
      "Processing Record 12 of Set 1 | korla\n",
      "Processing Record 13 of Set 1 | sobolevo\n",
      "Processing Record 14 of Set 1 | tumannyy\n",
      "City not found. Skipping...\n",
      "Processing Record 15 of Set 1 | longyearbyen\n",
      "Processing Record 16 of Set 1 | xai-xai\n",
      "Processing Record 17 of Set 1 | chippewa falls\n",
      "Processing Record 18 of Set 1 | bajil\n",
      "Processing Record 19 of Set 1 | leningradskiy\n",
      "Processing Record 20 of Set 1 | chuy\n",
      "Processing Record 21 of Set 1 | rexburg\n",
      "Processing Record 22 of Set 1 | vaini\n",
      "Processing Record 23 of Set 1 | klaksvik\n",
      "Processing Record 24 of Set 1 | palmer\n",
      "Processing Record 25 of Set 1 | klyuchi\n",
      "Processing Record 26 of Set 1 | ust-kuyga\n",
      "Processing Record 27 of Set 1 | port alfred\n",
      "Processing Record 28 of Set 1 | naze\n",
      "Processing Record 29 of Set 1 | atuona\n",
      "Processing Record 30 of Set 1 | pevek\n",
      "Processing Record 31 of Set 1 | neyshabur\n",
      "Processing Record 32 of Set 1 | namibe\n",
      "Processing Record 33 of Set 1 | kodiak\n",
      "Processing Record 34 of Set 1 | mar del plata\n",
      "Processing Record 35 of Set 1 | mwinilunga\n",
      "Processing Record 36 of Set 1 | prince rupert\n",
      "Processing Record 37 of Set 1 | saldanha\n",
      "Processing Record 38 of Set 1 | batagay-alyta\n",
      "Processing Record 39 of Set 1 | marcona\n",
      "City not found. Skipping...\n",
      "Processing Record 40 of Set 1 | yellowknife\n",
      "Processing Record 41 of Set 1 | kangaba\n",
      "Processing Record 42 of Set 1 | olinda\n",
      "Processing Record 43 of Set 1 | sitka\n",
      "Processing Record 44 of Set 1 | tuatapere\n",
      "Processing Record 45 of Set 1 | mackay\n",
      "Processing Record 46 of Set 1 | inuvik\n",
      "Processing Record 47 of Set 1 | hasaki\n",
      "Processing Record 48 of Set 1 | severo-kurilsk\n",
      "Processing Record 49 of Set 1 | nome\n",
      "Processing Record 50 of Set 1 | merced\n",
      "Processing Record 0 of Set 2 | iqaluit\n",
      "Processing Record 1 of Set 2 | saint-philippe\n",
      "Processing Record 2 of Set 2 | nioro\n",
      "Processing Record 3 of Set 2 | torbay\n",
      "Processing Record 4 of Set 2 | ilulissat\n",
      "Processing Record 5 of Set 2 | banda aceh\n",
      "Processing Record 6 of Set 2 | port elizabeth\n",
      "Processing Record 7 of Set 2 | wanning\n",
      "Processing Record 8 of Set 2 | cabo san lucas\n",
      "Processing Record 9 of Set 2 | jamestown\n",
      "Processing Record 10 of Set 2 | swan river\n",
      "Processing Record 11 of Set 2 | east london\n",
      "Processing Record 12 of Set 2 | hami\n",
      "Processing Record 13 of Set 2 | ahuimanu\n",
      "Processing Record 14 of Set 2 | sao filipe\n",
      "Processing Record 15 of Set 2 | talnakh\n",
      "Processing Record 16 of Set 2 | ilhabela\n",
      "Processing Record 17 of Set 2 | natal\n",
      "Processing Record 18 of Set 2 | banamba\n",
      "Processing Record 19 of Set 2 | yatou\n",
      "Processing Record 20 of Set 2 | mizpe ramon\n",
      "City not found. Skipping...\n",
      "Processing Record 21 of Set 2 | polunochnoye\n",
      "Processing Record 22 of Set 2 | broome\n",
      "Processing Record 23 of Set 2 | palasa\n",
      "Processing Record 24 of Set 2 | sabzevar\n",
      "Processing Record 25 of Set 2 | chokurdakh\n",
      "Processing Record 26 of Set 2 | kallifitos\n",
      "Processing Record 27 of Set 2 | jacqueville\n",
      "Processing Record 28 of Set 2 | port-gentil\n",
      "Processing Record 29 of Set 2 | hede\n",
      "Processing Record 30 of Set 2 | olafsvik\n",
      "Processing Record 31 of Set 2 | puerto ayora\n",
      "Processing Record 32 of Set 2 | qaanaaq\n",
      "Processing Record 33 of Set 2 | new norfolk\n",
      "Processing Record 34 of Set 2 | skagastrond\n",
      "City not found. Skipping...\n",
      "Processing Record 35 of Set 2 | santa marta\n",
      "Processing Record 36 of Set 2 | ghanzi\n",
      "Processing Record 37 of Set 2 | konevo\n",
      "Processing Record 38 of Set 2 | lat yao\n",
      "Processing Record 39 of Set 2 | narsaq\n",
      "Processing Record 40 of Set 2 | marsh harbour\n",
      "Processing Record 41 of Set 2 | chapais\n",
      "Processing Record 42 of Set 2 | airai\n",
      "Processing Record 43 of Set 2 | peace river\n",
      "Processing Record 44 of Set 2 | de-kastri\n",
      "Processing Record 45 of Set 2 | nikolskoye\n",
      "Processing Record 46 of Set 2 | deming\n",
      "Processing Record 47 of Set 2 | barrow\n",
      "Processing Record 48 of Set 2 | les cayes\n",
      "Processing Record 49 of Set 2 | attawapiskat\n",
      "City not found. Skipping...\n",
      "Processing Record 50 of Set 2 | rio branco\n",
      "Processing Record 0 of Set 3 | mys shmidta\n",
      "City not found. Skipping...\n",
      "Processing Record 1 of Set 3 | villarrobledo\n",
      "Processing Record 2 of Set 3 | eenhana\n",
      "Processing Record 3 of Set 3 | balimo\n",
      "City not found. Skipping...\n",
      "Processing Record 4 of Set 3 | kiunga\n",
      "Processing Record 5 of Set 3 | port-cartier\n",
      "Processing Record 6 of Set 3 | sur\n",
      "Processing Record 7 of Set 3 | sorland\n",
      "Processing Record 8 of Set 3 | camacha\n",
      "Processing Record 9 of Set 3 | bandarbeyla\n",
      "Processing Record 10 of Set 3 | victoria\n",
      "Processing Record 11 of Set 3 | westport\n",
      "Processing Record 12 of Set 3 | sinnamary\n",
      "Processing Record 13 of Set 3 | lagoa\n",
      "Processing Record 14 of Set 3 | upernavik\n",
      "Processing Record 15 of Set 3 | sekoma\n",
      "Processing Record 16 of Set 3 | huarmey\n",
      "Processing Record 17 of Set 3 | itoman\n",
      "Processing Record 18 of Set 3 | hirara\n",
      "Processing Record 19 of Set 3 | geraldton\n",
      "Processing Record 20 of Set 3 | ponta do sol\n",
      "Processing Record 21 of Set 3 | plettenberg bay\n",
      "Processing Record 22 of Set 3 | tuktoyaktuk\n",
      "Processing Record 23 of Set 3 | arman\n",
      "Processing Record 24 of Set 3 | iranshahr\n",
      "Processing Record 25 of Set 3 | cabral\n",
      "Processing Record 26 of Set 3 | rafaela\n",
      "Processing Record 27 of Set 3 | barra do garcas\n",
      "Processing Record 28 of Set 3 | mathbaria\n",
      "Processing Record 29 of Set 3 | bonthe\n",
      "Processing Record 30 of Set 3 | tasiilaq\n",
      "Processing Record 31 of Set 3 | mendahara\n",
      "City not found. Skipping...\n",
      "Processing Record 32 of Set 3 | lowestoft\n",
      "Processing Record 33 of Set 3 | ivanteyevka\n",
      "Processing Record 34 of Set 3 | katsuura\n",
      "Processing Record 35 of Set 3 | khatanga\n"
     ]
    },
    {
     "name": "stdout",
     "output_type": "stream",
     "text": [
      "Processing Record 36 of Set 3 | mzimba\n",
      "Processing Record 37 of Set 3 | lebu\n",
      "Processing Record 38 of Set 3 | nueva loja\n",
      "Processing Record 39 of Set 3 | alekseyevka\n",
      "Processing Record 40 of Set 3 | bredasdorp\n",
      "Processing Record 41 of Set 3 | saskylakh\n",
      "Processing Record 42 of Set 3 | yar-sale\n",
      "Processing Record 43 of Set 3 | arlit\n",
      "Processing Record 44 of Set 3 | ullapool\n",
      "Processing Record 45 of Set 3 | san policarpo\n",
      "Processing Record 46 of Set 3 | sinkat\n",
      "City not found. Skipping...\n",
      "Processing Record 47 of Set 3 | inirida\n",
      "Processing Record 48 of Set 3 | port blair\n",
      "Processing Record 49 of Set 3 | comodoro rivadavia\n",
      "Processing Record 50 of Set 3 | pinotepa nacional\n",
      "Processing Record 0 of Set 4 | agadez\n",
      "Processing Record 1 of Set 4 | grand gaube\n",
      "Processing Record 2 of Set 4 | royan\n",
      "Processing Record 3 of Set 4 | tiksi\n",
      "Processing Record 4 of Set 4 | ketchikan\n",
      "Processing Record 5 of Set 4 | ribas do rio pardo\n",
      "Processing Record 6 of Set 4 | bria\n",
      "Processing Record 7 of Set 4 | beringovskiy\n",
      "Processing Record 8 of Set 4 | nogliki\n",
      "Processing Record 9 of Set 4 | san patricio\n",
      "Processing Record 10 of Set 4 | los llanos de aridane\n",
      "Processing Record 11 of Set 4 | samalaeulu\n",
      "City not found. Skipping...\n",
      "Processing Record 12 of Set 4 | kaitangata\n",
      "Processing Record 13 of Set 4 | farah\n",
      "Processing Record 14 of Set 4 | bambous virieux\n",
      "Processing Record 15 of Set 4 | new richmond\n",
      "Processing Record 16 of Set 4 | katobu\n",
      "Processing Record 17 of Set 4 | mahebourg\n",
      "Processing Record 18 of Set 4 | barentsburg\n",
      "City not found. Skipping...\n",
      "Processing Record 19 of Set 4 | bonoua\n",
      "Processing Record 20 of Set 4 | tezu\n",
      "Processing Record 21 of Set 4 | ust-maya\n",
      "Processing Record 22 of Set 4 | progreso\n",
      "Processing Record 23 of Set 4 | vardo\n",
      "Processing Record 24 of Set 4 | illoqqortoormiut\n",
      "City not found. Skipping...\n",
      "Processing Record 25 of Set 4 | ashland\n",
      "Processing Record 26 of Set 4 | taoudenni\n",
      "Processing Record 27 of Set 4 | senador jose porfirio\n",
      "Processing Record 28 of Set 4 | salalah\n",
      "Processing Record 29 of Set 4 | zhangjiakou\n",
      "Processing Record 30 of Set 4 | mae ramat\n",
      "Processing Record 31 of Set 4 | rong kwang\n",
      "Processing Record 32 of Set 4 | saint-andre-les-vergers\n",
      "Processing Record 33 of Set 4 | lavrentiya\n",
      "Processing Record 34 of Set 4 | bethel\n",
      "Processing Record 35 of Set 4 | imbituba\n",
      "Processing Record 36 of Set 4 | georgetown\n",
      "Processing Record 37 of Set 4 | tura\n",
      "Processing Record 38 of Set 4 | lalibela\n",
      "Processing Record 39 of Set 4 | lichinga\n",
      "Processing Record 40 of Set 4 | kiruna\n",
      "Processing Record 41 of Set 4 | kvitok\n",
      "Processing Record 42 of Set 4 | provideniya\n",
      "Processing Record 43 of Set 4 | pilane\n",
      "Processing Record 44 of Set 4 | ahumada\n",
      "City not found. Skipping...\n",
      "Processing Record 45 of Set 4 | mbekenyera\n",
      "Processing Record 46 of Set 4 | bopfingen\n",
      "Processing Record 47 of Set 4 | marystown\n",
      "Processing Record 48 of Set 4 | dunedin\n",
      "Processing Record 49 of Set 4 | tolaga bay\n",
      "Processing Record 50 of Set 4 | richards bay\n",
      "Processing Record 0 of Set 5 | corner brook\n",
      "Processing Record 1 of Set 5 | luziania\n",
      "Processing Record 2 of Set 5 | kirovsk\n",
      "Processing Record 3 of Set 5 | karasburg\n",
      "Processing Record 4 of Set 5 | epe\n",
      "Processing Record 5 of Set 5 | touros\n",
      "Processing Record 6 of Set 5 | thompson\n",
      "Processing Record 7 of Set 5 | turinsk\n",
      "Processing Record 8 of Set 5 | sorvag\n",
      "City not found. Skipping...\n",
      "Processing Record 9 of Set 5 | coquimbo\n",
      "Processing Record 10 of Set 5 | komsomolskiy\n",
      "Processing Record 11 of Set 5 | clyde river\n",
      "Processing Record 12 of Set 5 | acajutla\n",
      "Processing Record 13 of Set 5 | ancud\n",
      "Processing Record 14 of Set 5 | sao joao da barra\n",
      "Processing Record 15 of Set 5 | owando\n",
      "Processing Record 16 of Set 5 | cockburn town\n",
      "Processing Record 17 of Set 5 | kedrovyy\n",
      "Processing Record 18 of Set 5 | samusu\n",
      "City not found. Skipping...\n",
      "Processing Record 19 of Set 5 | kajaani\n",
      "Processing Record 20 of Set 5 | north bend\n",
      "Processing Record 21 of Set 5 | dzhusaly\n",
      "City not found. Skipping...\n",
      "Processing Record 22 of Set 5 | laje\n",
      "Processing Record 23 of Set 5 | xiaoweizhai\n",
      "Processing Record 24 of Set 5 | ostrovnoy\n",
      "Processing Record 25 of Set 5 | churapcha\n",
      "Processing Record 26 of Set 5 | aasiaat\n",
      "Processing Record 27 of Set 5 | makakilo city\n",
      "Processing Record 28 of Set 5 | mount gambier\n",
      "Processing Record 29 of Set 5 | omboue\n",
      "Processing Record 30 of Set 5 | veraval\n",
      "Processing Record 31 of Set 5 | lao cai\n",
      "Processing Record 32 of Set 5 | senanga\n",
      "Processing Record 33 of Set 5 | develi\n",
      "Processing Record 34 of Set 5 | haines junction\n",
      "Processing Record 35 of Set 5 | hackettstown\n",
      "Processing Record 36 of Set 5 | vila velha\n",
      "Processing Record 37 of Set 5 | port augusta\n",
      "Processing Record 38 of Set 5 | karangasem\n",
      "Processing Record 39 of Set 5 | twin falls\n",
      "Processing Record 40 of Set 5 | ishigaki\n",
      "Processing Record 41 of Set 5 | halalo\n",
      "City not found. Skipping...\n",
      "Processing Record 42 of Set 5 | buraydah\n",
      "Processing Record 43 of Set 5 | ambatondrazaka\n",
      "Processing Record 44 of Set 5 | mandali\n",
      "Processing Record 45 of Set 5 | hambantota\n",
      "Processing Record 46 of Set 5 | skibbereen\n",
      "Processing Record 47 of Set 5 | tactic\n",
      "Processing Record 48 of Set 5 | codrington\n",
      "Processing Record 49 of Set 5 | kaeo\n",
      "Processing Record 50 of Set 5 | waipawa\n",
      "Processing Record 0 of Set 6 | udachnyy\n",
      "Processing Record 1 of Set 6 | lasa\n",
      "Processing Record 2 of Set 6 | kruisfontein\n",
      "Processing Record 3 of Set 6 | taybad\n",
      "Processing Record 4 of Set 6 | urusha\n",
      "Processing Record 5 of Set 6 | saint-pierre\n",
      "Processing Record 6 of Set 6 | constitucion\n",
      "Processing Record 7 of Set 6 | alofi\n",
      "Processing Record 8 of Set 6 | yulara\n",
      "Processing Record 9 of Set 6 | tanete\n",
      "Processing Record 10 of Set 6 | gwadar\n",
      "Processing Record 11 of Set 6 | pisco\n",
      "Processing Record 12 of Set 6 | tecoanapa\n",
      "Processing Record 13 of Set 6 | marsaxlokk\n",
      "Processing Record 14 of Set 6 | husavik\n",
      "Processing Record 15 of Set 6 | half moon bay\n",
      "Processing Record 16 of Set 6 | tabialan\n",
      "City not found. Skipping...\n",
      "Processing Record 17 of Set 6 | sabang\n",
      "Processing Record 18 of Set 6 | tarudant\n",
      "City not found. Skipping...\n",
      "Processing Record 19 of Set 6 | nantucket\n",
      "Processing Record 20 of Set 6 | fortuna\n",
      "Processing Record 21 of Set 6 | sinop\n",
      "Processing Record 22 of Set 6 | jalu\n",
      "Processing Record 23 of Set 6 | hohhot\n",
      "Processing Record 24 of Set 6 | bambanglipuro\n",
      "Processing Record 25 of Set 6 | pandharpur\n",
      "Processing Record 26 of Set 6 | ternate\n",
      "Processing Record 27 of Set 6 | nouadhibou\n",
      "Processing Record 28 of Set 6 | saint stephen\n",
      "Processing Record 29 of Set 6 | nguiu\n",
      "City not found. Skipping...\n",
      "Processing Record 30 of Set 6 | nouakchott\n",
      "Processing Record 31 of Set 6 | cururupu\n",
      "Processing Record 32 of Set 6 | mehamn\n",
      "Processing Record 33 of Set 6 | jeremie\n",
      "Processing Record 34 of Set 6 | grand baie\n",
      "Processing Record 35 of Set 6 | aykhal\n",
      "Processing Record 36 of Set 6 | esperance\n",
      "Processing Record 37 of Set 6 | salamiyah\n",
      "Processing Record 38 of Set 6 | kamenka\n",
      "Processing Record 39 of Set 6 | havelock\n",
      "Processing Record 40 of Set 6 | la rioja\n",
      "Processing Record 41 of Set 6 | fort-shevchenko\n",
      "Processing Record 42 of Set 6 | rogers\n",
      "Processing Record 43 of Set 6 | ust-kulom\n",
      "Processing Record 44 of Set 6 | maceio\n",
      "Processing Record 45 of Set 6 | dwarka\n",
      "Processing Record 46 of Set 6 | hay river\n",
      "Processing Record 47 of Set 6 | douentza\n",
      "Processing Record 48 of Set 6 | port shepstone\n",
      "Processing Record 49 of Set 6 | najran\n",
      "Processing Record 50 of Set 6 | concepcion\n",
      "Processing Record 0 of Set 7 | solton\n",
      "Processing Record 1 of Set 7 | port lincoln\n",
      "Processing Record 2 of Set 7 | severo-yeniseyskiy\n",
      "Processing Record 3 of Set 7 | adrar\n",
      "Processing Record 4 of Set 7 | petatlan\n",
      "Processing Record 5 of Set 7 | cherskiy\n",
      "Processing Record 6 of Set 7 | trairi\n",
      "Processing Record 7 of Set 7 | kieta\n",
      "Processing Record 8 of Set 7 | kultuk\n",
      "Processing Record 9 of Set 7 | nevers\n",
      "Processing Record 10 of Set 7 | umm lajj\n",
      "Processing Record 11 of Set 7 | havre-saint-pierre\n",
      "Processing Record 12 of Set 7 | talara\n",
      "Processing Record 13 of Set 7 | mutsu\n",
      "Processing Record 14 of Set 7 | carauari\n",
      "Processing Record 15 of Set 7 | filadelfia\n",
      "Processing Record 16 of Set 7 | antalaha\n",
      "Processing Record 17 of Set 7 | hit\n",
      "Processing Record 18 of Set 7 | taunggyi\n",
      "Processing Record 19 of Set 7 | eskasem\n",
      "City not found. Skipping...\n",
      "Processing Record 20 of Set 7 | champerico\n"
     ]
    },
    {
     "name": "stdout",
     "output_type": "stream",
     "text": [
      "Processing Record 21 of Set 7 | reconquista\n",
      "Processing Record 22 of Set 7 | kupang\n",
      "Processing Record 23 of Set 7 | acapulco\n",
      "Processing Record 24 of Set 7 | daltenganj\n",
      "Processing Record 25 of Set 7 | robertsport\n",
      "Processing Record 26 of Set 7 | souillac\n",
      "Processing Record 27 of Set 7 | tabas\n",
      "Processing Record 28 of Set 7 | frederico westphalen\n",
      "Processing Record 29 of Set 7 | quimper\n",
      "Processing Record 30 of Set 7 | nichinan\n",
      "Processing Record 31 of Set 7 | pila\n",
      "Processing Record 32 of Set 7 | mulchen\n",
      "Processing Record 33 of Set 7 | livingston\n",
      "Processing Record 34 of Set 7 | coihaique\n",
      "Processing Record 35 of Set 7 | saint-francois\n",
      "Processing Record 36 of Set 7 | pangnirtung\n",
      "Processing Record 37 of Set 7 | marinette\n",
      "Processing Record 38 of Set 7 | mareeba\n",
      "Processing Record 39 of Set 7 | faanui\n",
      "Processing Record 40 of Set 7 | kavieng\n",
      "Processing Record 41 of Set 7 | delta\n",
      "Processing Record 42 of Set 7 | cairns\n",
      "Processing Record 43 of Set 7 | cidreira\n",
      "Processing Record 44 of Set 7 | kisangani\n",
      "Processing Record 45 of Set 7 | paamiut\n",
      "Processing Record 46 of Set 7 | zalantun\n",
      "Processing Record 47 of Set 7 | sosua\n",
      "Processing Record 48 of Set 7 | mabaruma\n",
      "Processing Record 49 of Set 7 | sechura\n",
      "Processing Record 50 of Set 7 | mossendjo\n",
      "Processing Record 0 of Set 8 | bolungarvik\n",
      "City not found. Skipping...\n",
      "Processing Record 1 of Set 8 | palabuhanratu\n",
      "City not found. Skipping...\n",
      "Processing Record 2 of Set 8 | diffa\n",
      "Processing Record 3 of Set 8 | bozova\n",
      "Processing Record 4 of Set 8 | srandakan\n",
      "Processing Record 5 of Set 8 | toamua\n",
      "City not found. Skipping...\n",
      "Processing Record 6 of Set 8 | marabba\n",
      "Processing Record 7 of Set 8 | grindavik\n",
      "Processing Record 8 of Set 8 | tsihombe\n",
      "City not found. Skipping...\n",
      "Processing Record 9 of Set 8 | boa vista\n",
      "Processing Record 10 of Set 8 | aksarka\n",
      "Processing Record 11 of Set 8 | boende\n",
      "Processing Record 12 of Set 8 | nerang\n",
      "Processing Record 13 of Set 8 | kununurra\n",
      "Processing Record 14 of Set 8 | dikson\n",
      "Processing Record 15 of Set 8 | beyneu\n",
      "Processing Record 16 of Set 8 | pacific grove\n",
      "Processing Record 17 of Set 8 | nizhneyansk\n",
      "City not found. Skipping...\n",
      "Processing Record 18 of Set 8 | alice springs\n",
      "Processing Record 19 of Set 8 | mpulungu\n",
      "Processing Record 20 of Set 8 | puerto escondido\n",
      "Processing Record 21 of Set 8 | letlhakane\n",
      "Processing Record 22 of Set 8 | molina\n",
      "Processing Record 23 of Set 8 | praia\n",
      "Processing Record 24 of Set 8 | grand river south east\n",
      "City not found. Skipping...\n",
      "Processing Record 25 of Set 8 | southbridge\n",
      "Processing Record 26 of Set 8 | hargeysa\n",
      "Processing Record 27 of Set 8 | mamlyutka\n",
      "Processing Record 28 of Set 8 | mandalgovi\n",
      "Processing Record 29 of Set 8 | mitsamiouli\n",
      "Processing Record 30 of Set 8 | kushmurun\n",
      "Processing Record 31 of Set 8 | hoganas\n",
      "Processing Record 32 of Set 8 | san quintin\n",
      "Processing Record 33 of Set 8 | big spring\n",
      "Processing Record 34 of Set 8 | nivala\n",
      "Processing Record 35 of Set 8 | pak phanang\n",
      "Processing Record 36 of Set 8 | belyy yar\n",
      "Processing Record 37 of Set 8 | makaryev\n",
      "Processing Record 38 of Set 8 | puerto maldonado\n",
      "Processing Record 39 of Set 8 | san andres\n",
      "Processing Record 40 of Set 8 | itanagar\n",
      "Processing Record 41 of Set 8 | hualmay\n",
      "Processing Record 42 of Set 8 | vadu pasii\n",
      "Processing Record 43 of Set 8 | bundi\n",
      "Processing Record 44 of Set 8 | khandyga\n",
      "Processing Record 45 of Set 8 | ahipara\n",
      "Processing Record 46 of Set 8 | satitoa\n",
      "City not found. Skipping...\n",
      "Processing Record 47 of Set 8 | kropotkin\n",
      "Processing Record 48 of Set 8 | cayenne\n",
      "Processing Record 49 of Set 8 | cariati\n",
      "Processing Record 50 of Set 8 | srednekolymsk\n",
      "Processing Record 0 of Set 9 | thurso\n",
      "Processing Record 1 of Set 9 | lata\n",
      "Processing Record 2 of Set 9 | sosnovo-ozerskoye\n",
      "Processing Record 3 of Set 9 | tshela\n",
      "Processing Record 4 of Set 9 | san luis\n",
      "Processing Record 5 of Set 9 | sangmelima\n",
      "Processing Record 6 of Set 9 | bengkulu\n",
      "Processing Record 7 of Set 9 | matir\n",
      "City not found. Skipping...\n",
      "Processing Record 8 of Set 9 | broken hill\n",
      "Processing Record 9 of Set 9 | yerbogachen\n",
      "Processing Record 10 of Set 9 | bilma\n",
      "Processing Record 11 of Set 9 | koslan\n",
      "Processing Record 12 of Set 9 | formoso do araguaia\n",
      "City not found. Skipping...\n",
      "Processing Record 13 of Set 9 | clovis\n",
      "Processing Record 14 of Set 9 | jacareacanga\n",
      "Processing Record 15 of Set 9 | marquette\n",
      "Processing Record 16 of Set 9 | mahon\n",
      "Processing Record 17 of Set 9 | mount isa\n",
      "Processing Record 18 of Set 9 | lucea\n",
      "Processing Record 19 of Set 9 | seoul\n",
      "Processing Record 20 of Set 9 | quesnel\n",
      "Processing Record 21 of Set 9 | requena\n",
      "Processing Record 22 of Set 9 | tambura\n",
      "Processing Record 23 of Set 9 | saint-joseph\n",
      "Processing Record 24 of Set 9 | rawson\n",
      "Processing Record 25 of Set 9 | urcos\n",
      "Processing Record 26 of Set 9 | sangar\n",
      "Processing Record 27 of Set 9 | beloha\n",
      "Processing Record 28 of Set 9 | porto belo\n",
      "Processing Record 29 of Set 9 | te anau\n",
      "Processing Record 30 of Set 9 | korem\n",
      "Processing Record 31 of Set 9 | araouane\n",
      "Processing Record 32 of Set 9 | vestmannaeyjar\n",
      "Processing Record 33 of Set 9 | el prat de llobregat\n",
      "Processing Record 34 of Set 9 | mut\n",
      "Processing Record 35 of Set 9 | santa isabel do rio negro\n",
      "Processing Record 36 of Set 9 | laguna\n",
      "Processing Record 37 of Set 9 | ashington\n",
      "Processing Record 38 of Set 9 | caravelas\n",
      "Processing Record 39 of Set 9 | liwale\n",
      "Processing Record 40 of Set 9 | katangli\n",
      "Processing Record 41 of Set 9 | powell river\n",
      "Processing Record 42 of Set 9 | moose factory\n",
      "Processing Record 43 of Set 9 | coahuayana\n",
      "Processing Record 44 of Set 9 | zaqatala\n",
      "Processing Record 45 of Set 9 | anshun\n",
      "Processing Record 46 of Set 9 | kalmunai\n",
      "Processing Record 47 of Set 9 | ugoofaaru\n",
      "Processing Record 48 of Set 9 | sauda\n",
      "Processing Record 49 of Set 9 | jhang\n",
      "Processing Record 50 of Set 9 | korhogo\n",
      "Processing Record 0 of Set 10 | podgornoye\n",
      "Processing Record 1 of Set 10 | russell\n",
      "Processing Record 2 of Set 10 | deputatskiy\n",
      "Processing Record 3 of Set 10 | salinas\n",
      "Processing Record 4 of Set 10 | guarapari\n",
      "Processing Record 5 of Set 10 | cervo\n",
      "Processing Record 6 of Set 10 | marietta\n",
      "Processing Record 7 of Set 10 | umm kaddadah\n",
      "Processing Record 8 of Set 10 | kifri\n",
      "Processing Record 9 of Set 10 | kawalu\n",
      "Processing Record 10 of Set 10 | havoysund\n",
      "Processing Record 11 of Set 10 | isangel\n",
      "Processing Record 12 of Set 10 | qasigiannguit\n",
      "Processing Record 13 of Set 10 | la ronge\n",
      "Processing Record 14 of Set 10 | tucurui\n",
      "Processing Record 15 of Set 10 | vorobyevka\n",
      "Processing Record 16 of Set 10 | huanren\n",
      "Processing Record 17 of Set 10 | pembroke\n",
      "Processing Record 18 of Set 10 | aksu\n",
      "Processing Record 19 of Set 10 | luba\n",
      "Processing Record 20 of Set 10 | eureka\n",
      "Processing Record 21 of Set 10 | puerto suarez\n",
      "Processing Record 22 of Set 10 | phan rang\n",
      "City not found. Skipping...\n",
      "Processing Record 23 of Set 10 | karaul\n",
      "City not found. Skipping...\n",
      "Processing Record 24 of Set 10 | tsabong\n",
      "Processing Record 25 of Set 10 | ternovka\n",
      "Processing Record 26 of Set 10 | manado\n",
      "Processing Record 27 of Set 10 | basco\n",
      "Processing Record 28 of Set 10 | guider\n",
      "Processing Record 29 of Set 10 | praia da vitoria\n",
      "Processing Record 30 of Set 10 | pangai\n",
      "Processing Record 31 of Set 10 | bonavista\n",
      "Processing Record 32 of Set 10 | abomey\n",
      "Processing Record 33 of Set 10 | ambon\n",
      "Processing Record 34 of Set 10 | azimur\n",
      "City not found. Skipping...\n",
      "Processing Record 35 of Set 10 | kuching\n",
      "Processing Record 36 of Set 10 | chumphon\n",
      "Processing Record 37 of Set 10 | chemainus\n",
      "Processing Record 38 of Set 10 | khonuu\n",
      "City not found. Skipping...\n",
      "Processing Record 39 of Set 10 | pandamatenga\n",
      "Processing Record 40 of Set 10 | bima\n",
      "Processing Record 41 of Set 10 | bokspits\n",
      "City not found. Skipping...\n",
      "Processing Record 42 of Set 10 | tidore\n",
      "City not found. Skipping...\n",
      "Processing Record 43 of Set 10 | milyutinskaya\n",
      "Processing Record 44 of Set 10 | sarahan\n",
      "Processing Record 45 of Set 10 | tamale\n",
      "Processing Record 46 of Set 10 | manzhouli\n",
      "Processing Record 47 of Set 10 | calabozo\n",
      "Processing Record 48 of Set 10 | rabo de peixe\n",
      "Processing Record 49 of Set 10 | cap malheureux\n",
      "Processing Record 50 of Set 10 | saleaula\n",
      "City not found. Skipping...\n",
      "Processing Record 0 of Set 11 | nongan\n",
      "Processing Record 1 of Set 11 | kovernino\n",
      "Processing Record 2 of Set 11 | mnogovershinnyy\n"
     ]
    },
    {
     "name": "stdout",
     "output_type": "stream",
     "text": [
      "Processing Record 3 of Set 11 | kargasok\n",
      "Processing Record 4 of Set 11 | umba\n",
      "Processing Record 5 of Set 11 | tsuyama\n",
      "Processing Record 6 of Set 11 | aswan\n",
      "Processing Record 7 of Set 11 | suozhen\n",
      "Processing Record 8 of Set 11 | khowai\n",
      "Processing Record 9 of Set 11 | aripuana\n",
      "Processing Record 10 of Set 11 | bereda\n",
      "Processing Record 11 of Set 11 | sapao\n",
      "City not found. Skipping...\n",
      "Processing Record 12 of Set 11 | gushikawa\n",
      "Processing Record 13 of Set 11 | sing buri\n",
      "Processing Record 14 of Set 11 | wasilla\n",
      "Processing Record 15 of Set 11 | hervey bay\n",
      "Processing Record 16 of Set 11 | cheremukhovo\n",
      "Processing Record 17 of Set 11 | bermejo\n",
      "Processing Record 18 of Set 11 | lewiston\n",
      "Processing Record 19 of Set 11 | maryborough\n",
      "Processing Record 20 of Set 11 | shupiyan\n",
      "Processing Record 21 of Set 11 | berlevag\n",
      "Processing Record 22 of Set 11 | yushu\n",
      "Processing Record 23 of Set 11 | nauta\n",
      "Processing Record 24 of Set 11 | kapoeta\n",
      "Processing Record 25 of Set 11 | meulaboh\n",
      "Processing Record 26 of Set 11 | rodrigues alves\n",
      "Processing Record 27 of Set 11 | luxor\n",
      "Processing Record 28 of Set 11 | college\n",
      "Processing Record 29 of Set 11 | bluefield\n",
      "Processing Record 30 of Set 11 | zeya\n",
      "Processing Record 31 of Set 11 | muros\n",
      "Processing Record 32 of Set 11 | chengde\n",
      "Processing Record 33 of Set 11 | lagos\n",
      "Processing Record 34 of Set 11 | okhotsk\n",
      "Processing Record 35 of Set 11 | gimli\n",
      "Processing Record 36 of Set 11 | kuche\n",
      "City not found. Skipping...\n",
      "Processing Record 37 of Set 11 | jurado\n",
      "Processing Record 38 of Set 11 | fairbanks\n",
      "Processing Record 39 of Set 11 | vagay\n",
      "Processing Record 40 of Set 11 | aden\n",
      "Processing Record 41 of Set 11 | rutland\n",
      "Processing Record 42 of Set 11 | revelstoke\n",
      "Processing Record 43 of Set 11 | sanchursk\n",
      "Processing Record 44 of Set 11 | port hardy\n",
      "---------------------------------\n",
      "Data Retrieval Complete \n",
      "---------------------------------\n"
     ]
    }
   ],
   "source": [
    "\n",
    "\n",
    "# Loop through the list of cities and perform a request for data on each\n",
    "print(\"Beginning Data Retrieval \")\n",
    "print(\"---------------------------------\")\n",
    "\n",
    "url = \"http://api.openweathermap.org/data/2.5/weather?units=Imperial&APPID=\" + weather_api_key\n",
    "\n",
    "#Add a one second interval between queries to stay within API limit\n",
    "time.sleep(3)\n",
    "\n",
    "for city in cities:\n",
    "    query_url = url + \"&q=\" + city\n",
    "    # Get weather data\n",
    "    response = requests.get(query_url).json()\n",
    "    if counter_record < 50:\n",
    "          counter_record += 1\n",
    "    else:\n",
    "        counter_set += 1\n",
    "        counter_record = 0\n",
    "        \n",
    "    #Print the rest of the statement\n",
    "    print(f\"Processing Record {counter_record} of Set {counter_set} | {city}\")\n",
    "        \n",
    "    try:\n",
    "        #Get weather data with JSON response\n",
    "        weather_response = requests.get(query_url)\n",
    "        weather_json = weather_response.json()\n",
    "        \n",
    "        # Get data from JSON responses\n",
    "        country = weather_json['sys']['country']\n",
    "        date = weather_json['dt']\n",
    "        humidity = weather_json['main']['humidity']\n",
    "        lat_list = weather_json['coord']['lat']\n",
    "        lng_list = weather_json['coord']['lon']\n",
    "        max_temp = weather_json['main']['temp_max']\n",
    "        cloudiness = weather_json['clouds']['all']\n",
    "        wind_speed = weather_json['wind']['speed']\n",
    "       \n",
    "            \n",
    "        #Add gathered information into city_weather_data list\n",
    "        city_weather_data.append({\"City\": city,\n",
    "                                 \"Country\": country,\n",
    "                                 \"Date\": date,\n",
    "                                 \"Lat\": lat_list,\n",
    "                                 \"Lng\": lng_list,\n",
    "                                 \"Max Temp\": max_temp,\n",
    "                                 \"Humidity\": humidity, \n",
    "                                 \"Cloudiness\": cloudiness,\n",
    "                                 \"Wind Speed\": wind_speed})\n",
    "           \n",
    "    except:\n",
    "        print(\"City not found. Skipping...\")\n",
    "        continue\n",
    "\n",
    "    \n",
    "#Indicate the end of the list\n",
    "print(\"---------------------------------\")\n",
    "print(\"Data Retrieval Complete \")\n",
    "print(\"---------------------------------\")"
   ]
  },
  {
   "cell_type": "markdown",
   "metadata": {},
   "source": [
    "### Convert Raw Data to DataFrame\n",
    "* Export the city data into a .csv.\n",
    "* Display the DataFrame"
   ]
  },
  {
   "cell_type": "code",
   "execution_count": 13,
   "metadata": {},
   "outputs": [
    {
     "data": {
      "text/html": [
       "<div>\n",
       "<style scoped>\n",
       "    .dataframe tbody tr th:only-of-type {\n",
       "        vertical-align: middle;\n",
       "    }\n",
       "\n",
       "    .dataframe tbody tr th {\n",
       "        vertical-align: top;\n",
       "    }\n",
       "\n",
       "    .dataframe thead th {\n",
       "        text-align: right;\n",
       "    }\n",
       "</style>\n",
       "<table border=\"1\" class=\"dataframe\">\n",
       "  <thead>\n",
       "    <tr style=\"text-align: right;\">\n",
       "      <th></th>\n",
       "      <th>City</th>\n",
       "      <th>Country</th>\n",
       "      <th>Date</th>\n",
       "      <th>Lat</th>\n",
       "      <th>Lng</th>\n",
       "      <th>Max Temp</th>\n",
       "      <th>Humidity</th>\n",
       "      <th>Cloudiness</th>\n",
       "      <th>Wind Speed</th>\n",
       "    </tr>\n",
       "  </thead>\n",
       "  <tbody>\n",
       "    <tr>\n",
       "      <th>0</th>\n",
       "      <td>porto novo</td>\n",
       "      <td>BJ</td>\n",
       "      <td>1643912886</td>\n",
       "      <td>6.4965</td>\n",
       "      <td>2.6036</td>\n",
       "      <td>84.02</td>\n",
       "      <td>64</td>\n",
       "      <td>75</td>\n",
       "      <td>8.39</td>\n",
       "    </tr>\n",
       "    <tr>\n",
       "      <th>1</th>\n",
       "      <td>kapaa</td>\n",
       "      <td>US</td>\n",
       "      <td>1643912886</td>\n",
       "      <td>22.0752</td>\n",
       "      <td>-159.3190</td>\n",
       "      <td>71.92</td>\n",
       "      <td>77</td>\n",
       "      <td>20</td>\n",
       "      <td>11.50</td>\n",
       "    </tr>\n",
       "    <tr>\n",
       "      <th>2</th>\n",
       "      <td>itarema</td>\n",
       "      <td>BR</td>\n",
       "      <td>1643912887</td>\n",
       "      <td>-2.9248</td>\n",
       "      <td>-39.9167</td>\n",
       "      <td>85.23</td>\n",
       "      <td>65</td>\n",
       "      <td>78</td>\n",
       "      <td>16.22</td>\n",
       "    </tr>\n",
       "    <tr>\n",
       "      <th>3</th>\n",
       "      <td>pyapon</td>\n",
       "      <td>MM</td>\n",
       "      <td>1643912888</td>\n",
       "      <td>16.2833</td>\n",
       "      <td>95.6833</td>\n",
       "      <td>68.25</td>\n",
       "      <td>65</td>\n",
       "      <td>14</td>\n",
       "      <td>5.97</td>\n",
       "    </tr>\n",
       "    <tr>\n",
       "      <th>4</th>\n",
       "      <td>rikitea</td>\n",
       "      <td>PF</td>\n",
       "      <td>1643912683</td>\n",
       "      <td>-23.1203</td>\n",
       "      <td>-134.9692</td>\n",
       "      <td>77.36</td>\n",
       "      <td>77</td>\n",
       "      <td>100</td>\n",
       "      <td>14.41</td>\n",
       "    </tr>\n",
       "    <tr>\n",
       "      <th>...</th>\n",
       "      <td>...</td>\n",
       "      <td>...</td>\n",
       "      <td>...</td>\n",
       "      <td>...</td>\n",
       "      <td>...</td>\n",
       "      <td>...</td>\n",
       "      <td>...</td>\n",
       "      <td>...</td>\n",
       "      <td>...</td>\n",
       "    </tr>\n",
       "    <tr>\n",
       "      <th>553</th>\n",
       "      <td>vagay</td>\n",
       "      <td>RU</td>\n",
       "      <td>1643912944</td>\n",
       "      <td>57.9375</td>\n",
       "      <td>69.0217</td>\n",
       "      <td>23.50</td>\n",
       "      <td>88</td>\n",
       "      <td>100</td>\n",
       "      <td>11.65</td>\n",
       "    </tr>\n",
       "    <tr>\n",
       "      <th>554</th>\n",
       "      <td>aden</td>\n",
       "      <td>YE</td>\n",
       "      <td>1643913160</td>\n",
       "      <td>12.7794</td>\n",
       "      <td>45.0367</td>\n",
       "      <td>78.13</td>\n",
       "      <td>60</td>\n",
       "      <td>0</td>\n",
       "      <td>9.44</td>\n",
       "    </tr>\n",
       "    <tr>\n",
       "      <th>555</th>\n",
       "      <td>rutland</td>\n",
       "      <td>US</td>\n",
       "      <td>1643913008</td>\n",
       "      <td>43.6167</td>\n",
       "      <td>-73.0162</td>\n",
       "      <td>42.24</td>\n",
       "      <td>94</td>\n",
       "      <td>100</td>\n",
       "      <td>1.01</td>\n",
       "    </tr>\n",
       "    <tr>\n",
       "      <th>556</th>\n",
       "      <td>revelstoke</td>\n",
       "      <td>CA</td>\n",
       "      <td>1643913161</td>\n",
       "      <td>50.9832</td>\n",
       "      <td>-118.2023</td>\n",
       "      <td>17.62</td>\n",
       "      <td>93</td>\n",
       "      <td>100</td>\n",
       "      <td>0.00</td>\n",
       "    </tr>\n",
       "    <tr>\n",
       "      <th>557</th>\n",
       "      <td>sanchursk</td>\n",
       "      <td>RU</td>\n",
       "      <td>1643913161</td>\n",
       "      <td>56.9413</td>\n",
       "      <td>47.2499</td>\n",
       "      <td>4.37</td>\n",
       "      <td>100</td>\n",
       "      <td>100</td>\n",
       "      <td>3.13</td>\n",
       "    </tr>\n",
       "  </tbody>\n",
       "</table>\n",
       "<p>558 rows × 9 columns</p>\n",
       "</div>"
      ],
      "text/plain": [
       "           City Country        Date      Lat       Lng  Max Temp  Humidity  \\\n",
       "0    porto novo      BJ  1643912886   6.4965    2.6036     84.02        64   \n",
       "1         kapaa      US  1643912886  22.0752 -159.3190     71.92        77   \n",
       "2       itarema      BR  1643912887  -2.9248  -39.9167     85.23        65   \n",
       "3        pyapon      MM  1643912888  16.2833   95.6833     68.25        65   \n",
       "4       rikitea      PF  1643912683 -23.1203 -134.9692     77.36        77   \n",
       "..          ...     ...         ...      ...       ...       ...       ...   \n",
       "553       vagay      RU  1643912944  57.9375   69.0217     23.50        88   \n",
       "554        aden      YE  1643913160  12.7794   45.0367     78.13        60   \n",
       "555     rutland      US  1643913008  43.6167  -73.0162     42.24        94   \n",
       "556  revelstoke      CA  1643913161  50.9832 -118.2023     17.62        93   \n",
       "557   sanchursk      RU  1643913161  56.9413   47.2499      4.37       100   \n",
       "\n",
       "     Cloudiness  Wind Speed  \n",
       "0            75        8.39  \n",
       "1            20       11.50  \n",
       "2            78       16.22  \n",
       "3            14        5.97  \n",
       "4           100       14.41  \n",
       "..          ...         ...  \n",
       "553         100       11.65  \n",
       "554           0        9.44  \n",
       "555         100        1.01  \n",
       "556         100        0.00  \n",
       "557         100        3.13  \n",
       "\n",
       "[558 rows x 9 columns]"
      ]
     },
     "execution_count": 13,
     "metadata": {},
     "output_type": "execute_result"
    }
   ],
   "source": [
    "#Create a DataFrame using information that was collected\n",
    "city_weather_data_pd = pd.DataFrame(city_weather_data)\n",
    "\n",
    "city_weather_data_pd.head(30)\n",
    "city_weather_data_pd.head(-1)"
   ]
  },
  {
   "cell_type": "markdown",
   "metadata": {},
   "source": [
    "## Inspect the data and remove the cities where the humidity > 100%.\n",
    "----\n",
    "Skip this step if there are no cities that have humidity > 100%. "
   ]
  },
  {
   "cell_type": "code",
   "execution_count": 17,
   "metadata": {},
   "outputs": [
    {
     "data": {
      "text/plain": [
       "count    559.000000\n",
       "mean      73.465116\n",
       "std       21.719170\n",
       "min        6.000000\n",
       "25%       62.000000\n",
       "50%       77.000000\n",
       "75%       91.000000\n",
       "max      100.000000\n",
       "Name: Humidity, dtype: float64"
      ]
     },
     "execution_count": 17,
     "metadata": {},
     "output_type": "execute_result"
    }
   ],
   "source": [
    "#Check if there are any cities with Humidity >100% \n",
    "city_weather_data_pd[\"Humidity\"].describe()"
   ]
  },
  {
   "cell_type": "code",
   "execution_count": 19,
   "metadata": {},
   "outputs": [
    {
     "data": {
      "text/plain": [
       "Int64Index([], dtype='int64')"
      ]
     },
     "execution_count": 19,
     "metadata": {},
     "output_type": "execute_result"
    }
   ],
   "source": [
    "# Get the indices of cities that have humidity over 100%.\n",
    "humidity_max = city_weather_data_pd[(city_weather_data_pd[\"Humidity\"] > 100)].index\n",
    "humidity_max"
   ]
  },
  {
   "cell_type": "code",
   "execution_count": 11,
   "metadata": {},
   "outputs": [
    {
     "data": {
      "text/plain": [
       "City          559\n",
       "Country       559\n",
       "Date          559\n",
       "Lat           559\n",
       "Lng           559\n",
       "Max Temp      559\n",
       "Humidity      559\n",
       "Cloudiness    559\n",
       "Wind Speed    559\n",
       "dtype: int64"
      ]
     },
     "execution_count": 11,
     "metadata": {},
     "output_type": "execute_result"
    }
   ],
   "source": [
    "#Export the city weather data into a csv file\n",
    "city_weather_data_pd.to_csv(\"output_data/cities_myhw.csv\", index=False)\n",
    "city_weather_data_pd.count()"
   ]
  },
  {
   "cell_type": "markdown",
   "metadata": {},
   "source": [
    "## Plotting the Data\n",
    "* Use proper labeling of the plots using plot titles (including date of analysis) and axes labels.\n",
    "* Save the plotted figures as .pngs."
   ]
  },
  {
   "cell_type": "markdown",
   "metadata": {},
   "source": [
    "## Latitude vs. Temperature Plot"
   ]
  },
  {
   "cell_type": "code",
   "execution_count": 21,
   "metadata": {},
   "outputs": [
    {
     "data": {
      "image/png": "[encoded data removed]",
      "text/plain": [
       "<Figure size 432x288 with 1 Axes>"
      ]
     },
     "metadata": {
      "needs_background": "light"
     },
     "output_type": "display_data"
    }
   ],
   "source": [
    "# Create a Scatter Plot for latitude vs. temperature\n",
    "\n",
    "x_values = city_weather_data_pd['Lat']\n",
    "y_values = city_weather_data_pd['Max Temp']\n",
    "plt.scatter(x_values,y_values)\n",
    "plt.title(\"City Latitude vs. Max Temperature\")\n",
    "plt.xlabel('Latitude')\n",
    "plt.ylabel('Temperature')\n",
    "plt.savefig(\"Images/Latitude vs Max Temperature.png\")\n",
    "plt.show()"
   ]
  },
  {
   "cell_type": "markdown",
   "metadata": {},
   "source": [
    "In this plot we can clearly see that temperature is dropping as we are moving away from the equator."
   ]
  },
  {
   "cell_type": "markdown",
   "metadata": {},
   "source": [
    "## Latitude vs. Humidity Plot"
   ]
  },
  {
   "cell_type": "code",
   "execution_count": 22,
   "metadata": {},
   "outputs": [
    {
     "data": {
      "image/png": "[encoded data removed]",
      "text/plain": [
       "<Figure size 432x288 with 1 Axes>"
      ]
     },
     "metadata": {
      "needs_background": "light"
     },
     "output_type": "display_data"
    }
   ],
   "source": [
    "# Create a Scatter Plot for latitude vs. humidity\n",
    "\n",
    "x_values = city_weather_data_pd['Lat']\n",
    "y_values = city_weather_data_pd['Humidity']\n",
    "plt.scatter(x_values,y_values)\n",
    "plt.title(\"City Latitude vs. Humidity\")\n",
    "plt.xlabel('Latitude')\n",
    "plt.ylabel('Humidity')\n",
    "plt.savefig(\"Images/Latitude vs Humidity.png\")\n",
    "plt.show()"
   ]
  },
  {
   "cell_type": "markdown",
   "metadata": {},
   "source": [
    "There is no clear data we can take away from this plot, therefore we can tell that there is no conection between latitude and humidity.  "
   ]
  },
  {
   "cell_type": "markdown",
   "metadata": {},
   "source": [
    "## Latitude vs. Cloudiness Plot"
   ]
  },
  {
   "cell_type": "code",
   "execution_count": 23,
   "metadata": {},
   "outputs": [
    {
     "data": {
      "image/png": "[encoded data removed]",
      "text/plain": [
       "<Figure size 432x288 with 1 Axes>"
      ]
     },
     "metadata": {
      "needs_background": "light"
     },
     "output_type": "display_data"
    }
   ],
   "source": [
    "# Create a Scatter Plot for latitude vs. cloudiness\n",
    "\n",
    "x_values = city_weather_data_pd['Lat']\n",
    "y_values = city_weather_data_pd['Cloudiness']\n",
    "plt.scatter(x_values,y_values)\n",
    "plt.title(\"City Latitude vs. Cloudiness\")\n",
    "plt.xlabel('Latitude')\n",
    "plt.ylabel('Cloudiness')\n",
    "plt.savefig(\"Images/Latitude vs Cloudiness.png\")\n",
    "plt.show()"
   ]
  },
  {
   "cell_type": "markdown",
   "metadata": {},
   "source": [
    "There is no clear data we can take away from this plot, therefore we can tell that there is no conection between latitude and cloudiness. "
   ]
  },
  {
   "cell_type": "markdown",
   "metadata": {},
   "source": [
    "## Latitude vs. Wind Speed Plot"
   ]
  },
  {
   "cell_type": "code",
   "execution_count": 24,
   "metadata": {},
   "outputs": [
    {
     "data": {
      "image/png": "[encoded data removed]",
      "text/plain": [
       "<Figure size 432x288 with 1 Axes>"
      ]
     },
     "metadata": {
      "needs_background": "light"
     },
     "output_type": "display_data"
    }
   ],
   "source": [
    "# Create a Scatter Plot for latitude vs. wind speed\n",
    "\n",
    "x_values = city_weather_data_pd['Lat']\n",
    "y_values = city_weather_data_pd['Wind Speed']\n",
    "plt.scatter(x_values,y_values)\n",
    "plt.title(\"City Latitude vs. Wind Speed\")\n",
    "plt.xlabel('Latitude')\n",
    "plt.ylabel('Wind Speed')\n",
    "plt.savefig(\"Images/Latitude vs Wind Speed.png\")\n",
    "plt.show()"
   ]
  },
  {
   "cell_type": "markdown",
   "metadata": {},
   "source": [
    "There is no clear data we can take away from this plot, therefore we can tell that there is no conection between latitude and wind speed."
   ]
  },
  {
   "cell_type": "markdown",
   "metadata": {},
   "source": [
    "## Linear Regression"
   ]
  },
  {
   "cell_type": "code",
   "execution_count": 27,
   "metadata": {},
   "outputs": [],
   "source": [
    "# Create Northern and Southern Hemisphere DataFrames\n",
    "northern_pd = city_weather_data_pd.loc[pd.to_numeric(city_weather_data_pd[\"Lat\"]).astype(float) > 0, :]\n",
    "southern_pd = city_weather_data_pd.loc[pd.to_numeric(city_weather_data_pd[\"Lat\"]).astype(float) < 0, :]"
   ]
  },
  {
   "cell_type": "markdown",
   "metadata": {},
   "source": [
    "####  Northern Hemisphere - Max Temp vs. Latitude Linear Regression"
   ]
  },
  {
   "cell_type": "code",
   "execution_count": 32,
   "metadata": {},
   "outputs": [
    {
     "data": {
      "image/png": "[encoded data removed]",
      "text/plain": [
       "<Figure size 432x288 with 1 Axes>"
      ]
     },
     "metadata": {
      "needs_background": "light"
     },
     "output_type": "display_data"
    }
   ],
   "source": [
    "# Calculate the correlation coefficient and linear regression model \n",
    "# Northern Hemisphere - Max Temp vs. Latitude Linear Regression\n",
    "x_values = pd.to_numeric(northern_pd[\"Lat\"]).astype(float)\n",
    "y_values = pd.to_numeric(northern_pd[\"Max Temp\"]).astype(float)\n",
    "(slope, intercept, rvalue, pvalue, stderr) = linregress(x_values, y_values)\n",
    "regress_values=x_values * slope + intercept\n",
    "line_eq= f\"y = {round(slope, 2)} x + {round(intercept, 2)}\"\n",
    "plt.scatter(x_values, y_values)\n",
    "plt.plot(x_values, regress_values, color='red')\n",
    "plt.annotate(line_eq,(0,-40), color='red', fontsize=15)\n",
    "plt.xlabel(\"Latitude\")\n",
    "plt.ylabel(\"Max Temp\")\n",
    "plt.title(\"Northern Hemisphere - Max Temp vs. Latitude\")\n",
    "plt.savefig(\"Images/NorthHem_MaxTemp_Lat.png\")\n",
    "plt.show()"
   ]
  },
  {
   "cell_type": "markdown",
   "metadata": {},
   "source": [
    "The regression displays a negative correlation.\n",
    "According to our plot, we can see, in the Northern Hemisphere as we move away from the equator the temperature decreases."
   ]
  },
  {
   "cell_type": "markdown",
   "metadata": {},
   "source": [
    "####  Southern Hemisphere - Max Temp vs. Latitude Linear Regression"
   ]
  },
  {
   "cell_type": "code",
   "execution_count": 34,
   "metadata": {},
   "outputs": [
    {
     "data": {
      "image/png": "[encoded data removed]",
      "text/plain": [
       "<Figure size 432x288 with 1 Axes>"
      ]
     },
     "metadata": {
      "needs_background": "light"
     },
     "output_type": "display_data"
    }
   ],
   "source": [
    "# Calculate the correlation coefficient and linear regression model \n",
    "# Southern Hemisphere - Max Temp vs. Latitude Linear Regression\n",
    "x_values = pd.to_numeric(southern_pd[\"Lat\"]).astype(float)\n",
    "y_values = pd.to_numeric(southern_pd[\"Max Temp\"]).astype(float)\n",
    "(slope, intercept, rvalue, pvalue, stderr) = linregress(x_values, y_values)\n",
    "regress_values=x_values * slope + intercept\n",
    "line_eq= f\"y = {round(slope, 2)} x + {round(intercept, 2)}\"\n",
    "plt.scatter(x_values, y_values)\n",
    "plt.plot(x_values, regress_values, color='red')\n",
    "plt.annotate(line_eq,(-30,50), color='red', fontsize=15)\n",
    "plt.xlabel(\"Latitude\")\n",
    "plt.ylabel(\"Max Temp\")\n",
    "plt.title(\"Southern Hemisphere - Max Temp vs. Latitude\")\n",
    "plt.savefig(\"Images/SouthHem_MaxTemp_Lat.png\")\n",
    "plt.show()"
   ]
  },
  {
   "cell_type": "markdown",
   "metadata": {},
   "source": [
    "The regression displays a positive correlation.\n",
    "According to our plot, we can see, in the Southern Hemisphere as we move closer to the equator the temperature increases."
   ]
  },
  {
   "cell_type": "markdown",
   "metadata": {},
   "source": [
    "####  Northern Hemisphere - Humidity (%) vs. Latitude Linear Regression"
   ]
  },
  {
   "cell_type": "code",
   "execution_count": 36,
   "metadata": {},
   "outputs": [
    {
     "data": {
      "image/png": "[encoded data removed]",
      "text/plain": [
       "<Figure size 432x288 with 1 Axes>"
      ]
     },
     "metadata": {
      "needs_background": "light"
     },
     "output_type": "display_data"
    }
   ],
   "source": [
    "# Calculate the correlation coefficient and linear regression model \n",
    "# Northern Hemisphere - Humidity (%) vs. Latitude Linear Regression\n",
    "x_values = pd.to_numeric(northern_pd[\"Lat\"]).astype(float)\n",
    "y_values = pd.to_numeric(northern_pd[\"Humidity\"]).astype(float)\n",
    "(slope, intercept, rvalue, pvalue, stderr) = linregress(x_values, y_values)\n",
    "regress_values=x_values * slope + intercept\n",
    "line_eq= f\"y = {round(slope, 2)} x + {round(intercept, 2)}\"\n",
    "plt.scatter(x_values, y_values)\n",
    "plt.plot(x_values, regress_values, color='red')\n",
    "plt.annotate(line_eq,(40,15), color='red', fontsize=15)\n",
    "plt.xlabel(\"Latitude\")\n",
    "plt.ylabel(\"Humidity\")\n",
    "plt.title(\"Northern Hemisphere - Humidity vs. Latitude\")\n",
    "plt.savefig(\"Images/NorthHem_Humidity_Lat.png\")\n",
    "plt.show()"
   ]
  },
  {
   "cell_type": "markdown",
   "metadata": {},
   "source": [
    "There is no clear data we can take away from this plot, therefore we can tell that there is no correlation between the data set. "
   ]
  },
  {
   "cell_type": "markdown",
   "metadata": {},
   "source": [
    "####  Southern Hemisphere - Humidity (%) vs. Latitude Linear Regression"
   ]
  },
  {
   "cell_type": "code",
   "execution_count": 38,
   "metadata": {},
   "outputs": [
    {
     "data": {
      "image/png": "[encoded data removed]",
      "text/plain": [
       "<Figure size 432x288 with 1 Axes>"
      ]
     },
     "metadata": {
      "needs_background": "light"
     },
     "output_type": "display_data"
    }
   ],
   "source": [
    "# Calculate the correlation coefficient and linear regression model \n",
    "# Southern Hemisphere - Humidity (%) vs. Latitude Linear Regression\n",
    "x_values = pd.to_numeric(southern_pd[\"Lat\"]).astype(float)\n",
    "y_values = pd.to_numeric(southern_pd[\"Humidity\"]).astype(float)\n",
    "(slope, intercept, rvalue, pvalue, stderr) = linregress(x_values, y_values)\n",
    "regress_values=x_values * slope + intercept\n",
    "line_eq= f\"y = {round(slope, 2)} x + {round(intercept, 2)}\"\n",
    "plt.scatter(x_values, y_values)\n",
    "plt.plot(x_values, regress_values, color='red')\n",
    "plt.annotate(line_eq,(-25,20), color='red', fontsize=15)\n",
    "plt.xlabel(\"Latitude\")\n",
    "plt.ylabel(\"Humidity\")\n",
    "plt.title(\"Southern Hemisphere - Humidity vs. Latitude\")\n",
    "plt.savefig(\"Images/SouthHem_Humidity_Lat.png\")\n",
    "plt.show()"
   ]
  },
  {
   "cell_type": "markdown",
   "metadata": {},
   "source": [
    "There is no clear data we can take away from this plot, therefore we can tell that there is no correlation between the data set."
   ]
  },
  {
   "cell_type": "markdown",
   "metadata": {},
   "source": [
    "####  Northern Hemisphere - Cloudiness (%) vs. Latitude Linear Regression"
   ]
  },
  {
   "cell_type": "code",
   "execution_count": 40,
   "metadata": {},
   "outputs": [
    {
     "data": {
      "image/png": "[encoded data removed]",
      "text/plain": [
       "<Figure size 432x288 with 1 Axes>"
      ]
     },
     "metadata": {
      "needs_background": "light"
     },
     "output_type": "display_data"
    }
   ],
   "source": [
    "# Calculate the correlation coefficient and linear regression model \n",
    "# Northern Hemisphere - Cloudiness (%) vs. Latitude Linear Regression\n",
    "x_values = pd.to_numeric(northern_pd[\"Lat\"]).astype(float)\n",
    "y_values = pd.to_numeric(northern_pd[\"Cloudiness\"]).astype(float)\n",
    "(slope, intercept, rvalue, pvalue, stderr) = linregress(x_values, y_values)\n",
    "regress_values=x_values * slope + intercept\n",
    "line_eq= f\"y = {round(slope, 2)} x + {round(intercept, 2)}\"\n",
    "plt.scatter(x_values, y_values)\n",
    "plt.plot(x_values, regress_values, color='red')\n",
    "plt.annotate(line_eq,(0,60), color='red', fontsize=15)\n",
    "plt.xlabel(\"Latitude\")\n",
    "plt.ylabel(\"Cloudiness\")\n",
    "plt.title(\"Northern Hemisphere - Cloudiness vs. Latitude\")\n",
    "plt.savefig(\"Images/NorthHem_Cloudiness_Lat.png\")\n",
    "plt.show()"
   ]
  },
  {
   "cell_type": "markdown",
   "metadata": {},
   "source": [
    "There is no clear data we can take away from this plot, therefore we can tell that there is no correlation between the data set."
   ]
  },
  {
   "cell_type": "markdown",
   "metadata": {},
   "source": [
    "####  Southern Hemisphere - Cloudiness (%) vs. Latitude Linear Regression"
   ]
  },
  {
   "cell_type": "code",
   "execution_count": 44,
   "metadata": {},
   "outputs": [
    {
     "data": {
      "image/png": "[encoded data removed]",
      "text/plain": [
       "<Figure size 432x288 with 1 Axes>"
      ]
     },
     "metadata": {
      "needs_background": "light"
     },
     "output_type": "display_data"
    }
   ],
   "source": [
    "# Calculate the correlation coefficient and linear regression model \n",
    "# Southern Hemisphere - Cloudiness (%) vs. Latitude Linear Regression\n",
    "x_values = pd.to_numeric(southern_pd[\"Lat\"]).astype(float)\n",
    "y_values = pd.to_numeric(southern_pd[\"Cloudiness\"]).astype(float)\n",
    "(slope, intercept, rvalue, pvalue, stderr) = linregress(x_values, y_values)\n",
    "regress_values=x_values * slope + intercept\n",
    "line_eq= f\"y = {round(slope, 2)} x + {round(intercept, 2)}\"\n",
    "plt.scatter(x_values, y_values)\n",
    "plt.plot(x_values, regress_values, color='red')\n",
    "plt.annotate(line_eq,(-55,30), color='red', fontsize=15)\n",
    "plt.xlabel(\"Latitude\")\n",
    "plt.ylabel(\"Cloudiness\")\n",
    "plt.title(\"Southern Hemisphere - Cloudiness vs. Latitude\")\n",
    "plt.savefig(\"Images/SouthHem_Cloudiness_Lat.png\")\n",
    "plt.show()"
   ]
  },
  {
   "cell_type": "markdown",
   "metadata": {},
   "source": [
    "There is no clear data we can take away from this plot, therefore we can tell that there is no correlation between the data set."
   ]
  },
  {
   "cell_type": "markdown",
   "metadata": {},
   "source": [
    "####  Northern Hemisphere - Wind Speed (mph) vs. Latitude Linear Regression"
   ]
  },
  {
   "cell_type": "code",
   "execution_count": 46,
   "metadata": {},
   "outputs": [
    {
     "data": {
      "image/png": "[encoded data removed]",
      "text/plain": [
       "<Figure size 432x288 with 1 Axes>"
      ]
     },
     "metadata": {
      "needs_background": "light"
     },
     "output_type": "display_data"
    }
   ],
   "source": [
    "# Calculate the correlation coefficient and linear regression model \n",
    "# Northern Hemisphere - Wind Speed vs. Latitude Linear Regression\n",
    "x_values = pd.to_numeric(northern_pd[\"Lat\"]).astype(float)\n",
    "y_values = pd.to_numeric(northern_pd[\"Wind Speed\"]).astype(float)\n",
    "(slope, intercept, rvalue, pvalue, stderr) = linregress(x_values, y_values)\n",
    "regress_values=x_values * slope + intercept\n",
    "line_eq= f\"y = {round(slope, 2)} x + {round(intercept, 2)}\"\n",
    "plt.scatter(x_values, y_values)\n",
    "plt.plot(x_values, regress_values, color='red')\n",
    "plt.annotate(line_eq,(0,35), color='red', fontsize=15)\n",
    "plt.xlabel(\"Latitude\")\n",
    "plt.ylabel(\"Wind Speed\")\n",
    "plt.title(\"Northern Hemisphere - Wind Speed vs. Latitude\")\n",
    "plt.savefig(\"Images/NorthHem_Wind Speed_Lat.png\")\n",
    "plt.show()"
   ]
  },
  {
   "cell_type": "markdown",
   "metadata": {},
   "source": [
    "There is no clear data we can take away from this plot, therefore we can tell that there is no correlation between the data set."
   ]
  },
  {
   "cell_type": "markdown",
   "metadata": {},
   "source": [
    "####  Southern Hemisphere - Wind Speed (mph) vs. Latitude Linear Regression"
   ]
  },
  {
   "cell_type": "code",
   "execution_count": 47,
   "metadata": {},
   "outputs": [
    {
     "data": {
      "image/png": "[encoded data removed]",
      "text/plain": [
       "<Figure size 432x288 with 1 Axes>"
      ]
     },
     "metadata": {
      "needs_background": "light"
     },
     "output_type": "display_data"
    }
   ],
   "source": [
    "# Calculate the correlation coefficient and linear regression model \n",
    "# Southern Hemisphere - Cloudiness (%) vs. Latitude Linear Regression\n",
    "x_values = pd.to_numeric(southern_pd[\"Lat\"]).astype(float)\n",
    "y_values = pd.to_numeric(southern_pd[\"Wind Speed\"]).astype(float)\n",
    "(slope, intercept, rvalue, pvalue, stderr) = linregress(x_values, y_values)\n",
    "regress_values=x_values * slope + intercept\n",
    "line_eq= f\"y = {round(slope, 2)} x + {round(intercept, 2)}\"\n",
    "plt.scatter(x_values, y_values)\n",
    "plt.plot(x_values, regress_values, color='red')\n",
    "plt.annotate(line_eq,(-55,30), color='red', fontsize=15)\n",
    "plt.xlabel(\"Latitude\")\n",
    "plt.ylabel(\"Wind Speed\")\n",
    "plt.title(\"Southern Hemisphere - Wind Speed vs. Latitude\")\n",
    "plt.savefig(\"Images/SouthHem_Wind Speed_Lat.png\")\n",
    "plt.show()"
   ]
  },
  {
   "cell_type": "markdown",
   "metadata": {},
   "source": [
    "There is no clear data we can take away from this plot, therefore we can tell that there is no correlation between the data set."
   ]
  }
 ],
 "metadata": {
  "anaconda-cloud": {},
  "kernel_info": {
   "name": "python3"
  },
  "kernelspec": {
   "display_name": "Python 3 (ipykernel)",
   "language": "python",
   "name": "python3"
  },
  "language_info": {
   "codemirror_mode": {
    "name": "ipython",
    "version": 3
   },
   "file_extension": ".py",
   "mimetype": "text/x-python",
   "name": "python",
   "nbconvert_exporter": "python",
   "pygments_lexer": "ipython3",
   "version": "3.9.7"
  },
  "latex_envs": {
   "LaTeX_envs_menu_present": true,
   "autoclose": false,
   "autocomplete": true,
   "bibliofile": "biblio.bib",
   "cite_by": "apalike",
   "current_citInitial": 1,
   "eqLabelWithNumbers": true,
   "eqNumInitial": 1,
   "hotkeys": {
    "equation": "Ctrl-E",
    "itemize": "Ctrl-I"
   },
   "labels_anchors": false,
   "latex_user_defs": false,
   "report_style_numbering": false,
   "user_envs_cfg": false
  },
  "nteract": {
   "version": "0.12.3"
  }
 },
 "nbformat": 4,
 "nbformat_minor": 2
}
